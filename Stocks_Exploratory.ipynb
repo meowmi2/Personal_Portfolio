{
 "cells": [
  {
   "cell_type": "code",
   "execution_count": 74,
   "metadata": {},
   "outputs": [],
   "source": [
    "import pandas as pd\n",
    "import pandas_datareader as web\n",
    "import numpy as np\n",
    "import datetime \n",
    "import seaborn as sns\n",
    "%matplotlib inline"
   ]
  },
  {
   "cell_type": "code",
   "execution_count": 54,
   "metadata": {},
   "outputs": [],
   "source": [
    "start = datetime.datetime(2018, 1, 1)\n",
    "end = datetime.datetime(2018, 10, 19)\n",
    "AAPL = web.DataReader('AAPL', 'iex', start, end)\n",
    "AMZN = web.DataReader('AMZN', 'iex', start, end)\n",
    "GOOGL = web.DataReader('GOOGL', 'iex', start, end)"
   ]
  },
  {
   "cell_type": "code",
   "execution_count": 55,
   "metadata": {},
   "outputs": [],
   "source": [
    "tickers = ['AAPL', 'AMZN' , 'GOOGL']\n"
   ]
  },
  {
   "cell_type": "code",
   "execution_count": 56,
   "metadata": {},
   "outputs": [],
   "source": [
    "stocks = pd.concat([AAPL,AMZN,GOOGL ], axis =1 , keys= ['AAPL', 'AMZN' , 'GOOGL']  )"
   ]
  },
  {
   "cell_type": "code",
   "execution_count": 57,
   "metadata": {},
   "outputs": [],
   "source": [
    "stocks.columns.names = ['Tickers', 'Data']"
   ]
  },
  {
   "cell_type": "code",
   "execution_count": 58,
   "metadata": {},
   "outputs": [
    {
     "data": {
      "text/html": [
       "<div>\n",
       "<style scoped>\n",
       "    .dataframe tbody tr th:only-of-type {\n",
       "        vertical-align: middle;\n",
       "    }\n",
       "\n",
       "    .dataframe tbody tr th {\n",
       "        vertical-align: top;\n",
       "    }\n",
       "\n",
       "    .dataframe thead tr th {\n",
       "        text-align: left;\n",
       "    }\n",
       "\n",
       "    .dataframe thead tr:last-of-type th {\n",
       "        text-align: right;\n",
       "    }\n",
       "</style>\n",
       "<table border=\"1\" class=\"dataframe\">\n",
       "  <thead>\n",
       "    <tr>\n",
       "      <th>Tickers</th>\n",
       "      <th colspan=\"5\" halign=\"left\">AAPL</th>\n",
       "      <th colspan=\"5\" halign=\"left\">AMZN</th>\n",
       "      <th colspan=\"5\" halign=\"left\">GOOGL</th>\n",
       "    </tr>\n",
       "    <tr>\n",
       "      <th>Data</th>\n",
       "      <th>open</th>\n",
       "      <th>high</th>\n",
       "      <th>low</th>\n",
       "      <th>close</th>\n",
       "      <th>volume</th>\n",
       "      <th>open</th>\n",
       "      <th>high</th>\n",
       "      <th>low</th>\n",
       "      <th>close</th>\n",
       "      <th>volume</th>\n",
       "      <th>open</th>\n",
       "      <th>high</th>\n",
       "      <th>low</th>\n",
       "      <th>close</th>\n",
       "      <th>volume</th>\n",
       "    </tr>\n",
       "    <tr>\n",
       "      <th>date</th>\n",
       "      <th></th>\n",
       "      <th></th>\n",
       "      <th></th>\n",
       "      <th></th>\n",
       "      <th></th>\n",
       "      <th></th>\n",
       "      <th></th>\n",
       "      <th></th>\n",
       "      <th></th>\n",
       "      <th></th>\n",
       "      <th></th>\n",
       "      <th></th>\n",
       "      <th></th>\n",
       "      <th></th>\n",
       "      <th></th>\n",
       "    </tr>\n",
       "  </thead>\n",
       "  <tbody>\n",
       "    <tr>\n",
       "      <th>2018-01-02</th>\n",
       "      <td>168.2280</td>\n",
       "      <td>170.3437</td>\n",
       "      <td>167.3382</td>\n",
       "      <td>170.3042</td>\n",
       "      <td>25555934</td>\n",
       "      <td>1172.00</td>\n",
       "      <td>1190.00</td>\n",
       "      <td>1170.51</td>\n",
       "      <td>1189.01</td>\n",
       "      <td>2694494</td>\n",
       "      <td>1053.02</td>\n",
       "      <td>1075.98</td>\n",
       "      <td>1053.02</td>\n",
       "      <td>1073.21</td>\n",
       "      <td>1588268</td>\n",
       "    </tr>\n",
       "    <tr>\n",
       "      <th>2018-01-03</th>\n",
       "      <td>170.5711</td>\n",
       "      <td>172.5682</td>\n",
       "      <td>170.0076</td>\n",
       "      <td>170.2745</td>\n",
       "      <td>29517899</td>\n",
       "      <td>1188.30</td>\n",
       "      <td>1205.49</td>\n",
       "      <td>1188.30</td>\n",
       "      <td>1204.20</td>\n",
       "      <td>3108793</td>\n",
       "      <td>1073.93</td>\n",
       "      <td>1096.10</td>\n",
       "      <td>1073.43</td>\n",
       "      <td>1091.52</td>\n",
       "      <td>1565945</td>\n",
       "    </tr>\n",
       "    <tr>\n",
       "      <th>2018-01-04</th>\n",
       "      <td>170.5810</td>\n",
       "      <td>171.5005</td>\n",
       "      <td>170.1262</td>\n",
       "      <td>171.0654</td>\n",
       "      <td>22434597</td>\n",
       "      <td>1205.00</td>\n",
       "      <td>1215.87</td>\n",
       "      <td>1204.66</td>\n",
       "      <td>1209.59</td>\n",
       "      <td>3022089</td>\n",
       "      <td>1097.09</td>\n",
       "      <td>1104.08</td>\n",
       "      <td>1094.26</td>\n",
       "      <td>1095.76</td>\n",
       "      <td>1302569</td>\n",
       "    </tr>\n",
       "    <tr>\n",
       "      <th>2018-01-05</th>\n",
       "      <td>171.4708</td>\n",
       "      <td>173.3789</td>\n",
       "      <td>171.0852</td>\n",
       "      <td>173.0131</td>\n",
       "      <td>23660018</td>\n",
       "      <td>1217.51</td>\n",
       "      <td>1229.14</td>\n",
       "      <td>1210.00</td>\n",
       "      <td>1229.14</td>\n",
       "      <td>3544743</td>\n",
       "      <td>1103.45</td>\n",
       "      <td>1113.58</td>\n",
       "      <td>1101.80</td>\n",
       "      <td>1110.29</td>\n",
       "      <td>1512526</td>\n",
       "    </tr>\n",
       "    <tr>\n",
       "      <th>2018-01-08</th>\n",
       "      <td>172.3705</td>\n",
       "      <td>173.6162</td>\n",
       "      <td>171.9552</td>\n",
       "      <td>172.3705</td>\n",
       "      <td>20567766</td>\n",
       "      <td>1236.00</td>\n",
       "      <td>1253.08</td>\n",
       "      <td>1232.03</td>\n",
       "      <td>1246.87</td>\n",
       "      <td>4279475</td>\n",
       "      <td>1111.00</td>\n",
       "      <td>1119.16</td>\n",
       "      <td>1110.00</td>\n",
       "      <td>1114.21</td>\n",
       "      <td>1232221</td>\n",
       "    </tr>\n",
       "  </tbody>\n",
       "</table>\n",
       "</div>"
      ],
      "text/plain": [
       "Tickers         AAPL                                             AMZN  \\\n",
       "Data            open      high       low     close    volume     open   \n",
       "date                                                                    \n",
       "2018-01-02  168.2280  170.3437  167.3382  170.3042  25555934  1172.00   \n",
       "2018-01-03  170.5711  172.5682  170.0076  170.2745  29517899  1188.30   \n",
       "2018-01-04  170.5810  171.5005  170.1262  171.0654  22434597  1205.00   \n",
       "2018-01-05  171.4708  173.3789  171.0852  173.0131  23660018  1217.51   \n",
       "2018-01-08  172.3705  173.6162  171.9552  172.3705  20567766  1236.00   \n",
       "\n",
       "Tickers                                           GOOGL                    \\\n",
       "Data           high      low    close   volume     open     high      low   \n",
       "date                                                                        \n",
       "2018-01-02  1190.00  1170.51  1189.01  2694494  1053.02  1075.98  1053.02   \n",
       "2018-01-03  1205.49  1188.30  1204.20  3108793  1073.93  1096.10  1073.43   \n",
       "2018-01-04  1215.87  1204.66  1209.59  3022089  1097.09  1104.08  1094.26   \n",
       "2018-01-05  1229.14  1210.00  1229.14  3544743  1103.45  1113.58  1101.80   \n",
       "2018-01-08  1253.08  1232.03  1246.87  4279475  1111.00  1119.16  1110.00   \n",
       "\n",
       "Tickers                       \n",
       "Data          close   volume  \n",
       "date                          \n",
       "2018-01-02  1073.21  1588268  \n",
       "2018-01-03  1091.52  1565945  \n",
       "2018-01-04  1095.76  1302569  \n",
       "2018-01-05  1110.29  1512526  \n",
       "2018-01-08  1114.21  1232221  "
      ]
     },
     "execution_count": 58,
     "metadata": {},
     "output_type": "execute_result"
    }
   ],
   "source": [
    "stocks.head()"
   ]
  },
  {
   "cell_type": "code",
   "execution_count": 59,
   "metadata": {},
   "outputs": [
    {
     "data": {
      "text/plain": [
       "Tickers\n",
       "AAPL      232.07\n",
       "AMZN     2039.51\n",
       "GOOGL    1285.50\n",
       "dtype: float64"
      ]
     },
     "execution_count": 59,
     "metadata": {},
     "output_type": "execute_result"
    }
   ],
   "source": [
    "\n",
    "stocks.xs(key='close',axis=1,level='Data').max()"
   ]
  },
  {
   "cell_type": "code",
   "execution_count": 69,
   "metadata": {},
   "outputs": [],
   "source": [
    "returns = pd.DataFrame()"
   ]
  },
  {
   "cell_type": "code",
   "execution_count": 70,
   "metadata": {},
   "outputs": [],
   "source": [
    "for i in tickers:\n",
    "    returns[i + ' returns'] = stocks[i]['close'].pct_change()"
   ]
  },
  {
   "cell_type": "code",
   "execution_count": 72,
   "metadata": {},
   "outputs": [
    {
     "data": {
      "text/html": [
       "<div>\n",
       "<style scoped>\n",
       "    .dataframe tbody tr th:only-of-type {\n",
       "        vertical-align: middle;\n",
       "    }\n",
       "\n",
       "    .dataframe tbody tr th {\n",
       "        vertical-align: top;\n",
       "    }\n",
       "\n",
       "    .dataframe thead th {\n",
       "        text-align: right;\n",
       "    }\n",
       "</style>\n",
       "<table border=\"1\" class=\"dataframe\">\n",
       "  <thead>\n",
       "    <tr style=\"text-align: right;\">\n",
       "      <th></th>\n",
       "      <th>AAPL returns</th>\n",
       "      <th>AMZN returns</th>\n",
       "      <th>GOOGL returns</th>\n",
       "    </tr>\n",
       "    <tr>\n",
       "      <th>date</th>\n",
       "      <th></th>\n",
       "      <th></th>\n",
       "      <th></th>\n",
       "    </tr>\n",
       "  </thead>\n",
       "  <tbody>\n",
       "    <tr>\n",
       "      <th>2018-01-02</th>\n",
       "      <td>NaN</td>\n",
       "      <td>NaN</td>\n",
       "      <td>NaN</td>\n",
       "    </tr>\n",
       "    <tr>\n",
       "      <th>2018-01-03</th>\n",
       "      <td>-0.000174</td>\n",
       "      <td>0.012775</td>\n",
       "      <td>0.017061</td>\n",
       "    </tr>\n",
       "    <tr>\n",
       "      <th>2018-01-04</th>\n",
       "      <td>0.004645</td>\n",
       "      <td>0.004476</td>\n",
       "      <td>0.003884</td>\n",
       "    </tr>\n",
       "    <tr>\n",
       "      <th>2018-01-05</th>\n",
       "      <td>0.011386</td>\n",
       "      <td>0.016163</td>\n",
       "      <td>0.013260</td>\n",
       "    </tr>\n",
       "    <tr>\n",
       "      <th>2018-01-08</th>\n",
       "      <td>-0.003714</td>\n",
       "      <td>0.014425</td>\n",
       "      <td>0.003531</td>\n",
       "    </tr>\n",
       "  </tbody>\n",
       "</table>\n",
       "</div>"
      ],
      "text/plain": [
       "            AAPL returns  AMZN returns  GOOGL returns\n",
       "date                                                 \n",
       "2018-01-02           NaN           NaN            NaN\n",
       "2018-01-03     -0.000174      0.012775       0.017061\n",
       "2018-01-04      0.004645      0.004476       0.003884\n",
       "2018-01-05      0.011386      0.016163       0.013260\n",
       "2018-01-08     -0.003714      0.014425       0.003531"
      ]
     },
     "execution_count": 72,
     "metadata": {},
     "output_type": "execute_result"
    }
   ],
   "source": [
    "returns.head()"
   ]
  },
  {
   "cell_type": "code",
   "execution_count": 75,
   "metadata": {},
   "outputs": [
    {
     "data": {
      "text/plain": [
       "<seaborn.axisgrid.PairGrid at 0x11c9ebc88>"
      ]
     },
     "execution_count": 75,
     "metadata": {},
     "output_type": "execute_result"
    },
    {
     "data": {
      "image/png": "[encoded data removed]",
      "text/plain": [
       "<Figure size 540x540 with 12 Axes>"
      ]
     },
     "metadata": {},
     "output_type": "display_data"
    }
   ],
   "source": [
    "sns.pairplot(returns[1:])"
   ]
  },
  {
   "cell_type": "code",
   "execution_count": 76,
   "metadata": {},
   "outputs": [
    {
     "data": {
      "text/plain": [
       "AAPL returns     0.015122\n",
       "AMZN returns     0.017339\n",
       "GOOGL returns    0.016095\n",
       "dtype: float64"
      ]
     },
     "execution_count": 76,
     "metadata": {},
     "output_type": "execute_result"
    }
   ],
   "source": [
    "#std deviation\n",
    "returns.std()"
   ]
  },
  {
   "cell_type": "code",
   "execution_count": 84,
   "metadata": {},
   "outputs": [
    {
     "name": "stderr",
     "output_type": "stream",
     "text": [
      "/Users/davidssd/anaconda3/lib/python3.6/site-packages/matplotlib/axes/_axes.py:6462: UserWarning: The 'normed' kwarg is deprecated, and has been replaced by the 'density' kwarg.\n",
      "  warnings.warn(\"The 'normed' kwarg is deprecated, and has been \"\n"
     ]
    },
    {
     "data": {
      "text/plain": [
       "<matplotlib.axes._subplots.AxesSubplot at 0x1a224be7f0>"
      ]
     },
     "execution_count": 84,
     "metadata": {},
     "output_type": "execute_result"
    },
    {
     "data": {
      "image/png": "[encoded data removed]",
      "text/plain": [
       "<Figure size 432x288 with 1 Axes>"
      ]
     },
     "metadata": {},
     "output_type": "display_data"
    }
   ],
   "source": [
    "sns.distplot(returns.iloc[1:]['AAPL returns'])"
   ]
  },
  {
   "cell_type": "code",
   "execution_count": null,
   "metadata": {},
   "outputs": [],
   "source": []
  }
 ],
 "metadata": {
  "kernelspec": {
   "display_name": "Python 3",
   "language": "python",
   "name": "python3"
  },
  "language_info": {
   "codemirror_mode": {
    "name": "ipython",
    "version": 3
   },
   "file_extension": ".py",
   "mimetype": "text/x-python",
   "name": "python",
   "nbconvert_exporter": "python",
   "pygments_lexer": "ipython3",
   "version": "3.6.5"
  }
 },
 "nbformat": 4,
 "nbformat_minor": 2
}
